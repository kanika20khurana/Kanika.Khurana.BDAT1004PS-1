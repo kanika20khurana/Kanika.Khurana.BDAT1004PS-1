{
 "cells": [
  {
   "cell_type": "raw",
   "id": "3540ddf9-2c9e-4c1f-8786-2a853e3c36fb",
   "metadata": {},
   "source": [
    "\t\t\t\t\t\t\t\t\t Problem Set-1(Ques 1 to 5)\n"
   ]
  },
  {
   "cell_type": "markdown",
   "id": "b5eb24f4-07e9-4b46-9944-0e1d84326a44",
   "metadata": {},
   "source": [
    "Ques 1:  What data type is each of the following?\n",
    "5\n",
    "5.0\n",
    "5>1\n",
    "'5'\n",
    "5*2\n",
    "'5' * 2\n",
    "'5' + '2'\n",
    "5/2\n",
    "5%2\n",
    "{5, 2, 1}\n",
    "5 == 3\n",
    "Pi (the number)"
   ]
  },
  {
   "cell_type": "markdown",
   "id": "167d5f66-b6d3-4e31-a4b9-7bcaf2dd5ded",
   "metadata": {},
   "source": [
    "Ans:\n",
    "5 - Integer     \n",
    "5.0 - Float      \n",
    "5>1 - Boolean    \n",
    "'5' - Character       \n",
    "5*2 - Integer     \n",
    "'5' * 2 - String      \n",
    "'5' + '2' - String       \n",
    "5/2 - Float      \n",
    "5%2 - Integer      \n",
    "{5, 2, 1} - Set     \n",
    "5 == 3 - Boolean     \n",
    "Pi (the number) - Float    "
   ]
  },
  {
   "cell_type": "code",
   "execution_count": 1,
   "id": "87219864-46a5-4fc3-81d0-283c973db838",
   "metadata": {},
   "outputs": [
    {
     "data": {
      "text/html": [
       "\r\n",
       "<div>\r\n",
       "    <div id='dotnet-interactive-this-cell-94963.Microsoft.DotNet.Interactive.Http.HttpPort' style='display: none'>\r\n",
       "        The below script needs to be able to find the current output cell; this is an easy method to get it.\r\n",
       "    </div>\r\n",
       "    <script type='text/javascript'>\r\n",
       "async function probeAddresses(probingAddresses) {\r\n",
       "    function timeout(ms, promise) {\r\n",
       "        return new Promise(function (resolve, reject) {\r\n",
       "            setTimeout(function () {\r\n",
       "                reject(new Error('timeout'))\r\n",
       "            }, ms)\r\n",
       "            promise.then(resolve, reject)\r\n",
       "        })\r\n",
       "    }\r\n",
       "\r\n",
       "    if (Array.isArray(probingAddresses)) {\r\n",
       "        for (let i = 0; i < probingAddresses.length; i++) {\r\n",
       "\r\n",
       "            let rootUrl = probingAddresses[i];\r\n",
       "\r\n",
       "            if (!rootUrl.endsWith('/')) {\r\n",
       "                rootUrl = `${rootUrl}/`;\r\n",
       "            }\r\n",
       "\r\n",
       "            try {\r\n",
       "                let response = await timeout(1000, fetch(`${rootUrl}discovery`, {\r\n",
       "                    method: 'POST',\r\n",
       "                    cache: 'no-cache',\r\n",
       "                    mode: 'cors',\r\n",
       "                    timeout: 1000,\r\n",
       "                    headers: {\r\n",
       "                        'Content-Type': 'text/plain'\r\n",
       "                    },\r\n",
       "                    body: probingAddresses[i]\r\n",
       "                }));\r\n",
       "\r\n",
       "                if (response.status == 200) {\r\n",
       "                    return rootUrl;\r\n",
       "                }\r\n",
       "            }\r\n",
       "            catch (e) { }\r\n",
       "        }\r\n",
       "    }\r\n",
       "}\r\n",
       "\r\n",
       "function loadDotnetInteractiveApi() {\r\n",
       "    probeAddresses([\"http://192.168.1.37:2048/\", \"http://127.0.0.1:2048/\"])\r\n",
       "        .then((root) => {\r\n",
       "        // use probing to find host url and api resources\r\n",
       "        // load interactive helpers and language services\r\n",
       "        let dotnetInteractiveRequire = require.config({\r\n",
       "        context: '94963.Microsoft.DotNet.Interactive.Http.HttpPort',\r\n",
       "                paths:\r\n",
       "            {\r\n",
       "                'dotnet-interactive': `${root}resources`\r\n",
       "                }\r\n",
       "        }) || require;\r\n",
       "\r\n",
       "            window.dotnetInteractiveRequire = dotnetInteractiveRequire;\r\n",
       "\r\n",
       "            window.configureRequireFromExtension = function(extensionName, extensionCacheBuster) {\r\n",
       "                let paths = {};\r\n",
       "                paths[extensionName] = `${root}extensions/${extensionName}/resources/`;\r\n",
       "                \r\n",
       "                let internalRequire = require.config({\r\n",
       "                    context: extensionCacheBuster,\r\n",
       "                    paths: paths,\r\n",
       "                    urlArgs: `cacheBuster=${extensionCacheBuster}`\r\n",
       "                    }) || require;\r\n",
       "\r\n",
       "                return internalRequire\r\n",
       "            };\r\n",
       "        \r\n",
       "            dotnetInteractiveRequire([\r\n",
       "                    'dotnet-interactive/dotnet-interactive'\r\n",
       "                ],\r\n",
       "                function (dotnet) {\r\n",
       "                    dotnet.init(window);\r\n",
       "                },\r\n",
       "                function (error) {\r\n",
       "                    console.log(error);\r\n",
       "                }\r\n",
       "            );\r\n",
       "        })\r\n",
       "        .catch(error => {console.log(error);});\r\n",
       "    }\r\n",
       "\r\n",
       "// ensure `require` is available globally\r\n",
       "if ((typeof(require) !==  typeof(Function)) || (typeof(require.config) !== typeof(Function))) {\r\n",
       "    let require_script = document.createElement('script');\r\n",
       "    require_script.setAttribute('src', 'https://cdnjs.cloudflare.com/ajax/libs/require.js/2.3.6/require.min.js');\r\n",
       "    require_script.setAttribute('type', 'text/javascript');\r\n",
       "    \r\n",
       "    \r\n",
       "    require_script.onload = function() {\r\n",
       "        loadDotnetInteractiveApi();\r\n",
       "    };\r\n",
       "\r\n",
       "    document.getElementsByTagName('head')[0].appendChild(require_script);\r\n",
       "}\r\n",
       "else {\r\n",
       "    loadDotnetInteractiveApi();\r\n",
       "}\r\n",
       "\r\n",
       "    </script>\r\n",
       "</div>"
      ]
     },
     "metadata": {},
     "output_type": "display_data"
    },
    {
     "name": "stderr",
     "output_type": "stream",
     "text": [
      "\n",
      "(5,24): warning CS7022: The entry point of the program is global code; ignoring 'Program.Main()' entry point.\n",
      "\n"
     ]
    }
   ],
   "source": [
    "using System;\n",
    "\n",
    "class Program\n",
    "{\n",
    "    public static void Main()\n",
    "    {\n",
    "        int number1 = 5; \n",
    "        double number2 = 5.0;\n",
    "        bool isGreater = 5 > 1;\n",
    "        char character = '5';\n",
    "        int result1 = 5 * 2;\n",
    "        string result2 = string.Concat(Enumerable.Repeat(\"5\", 2));\n",
    "        string result3 = \"5\" + \"2\";\n",
    "        double result4 = 5 / 2.0;\n",
    "        int result5 = 5 % 2;\n",
    "        int[] set = new int[] { 5, 2, 1 };\n",
    "        bool isEqual = 5 == 3;\n",
    "        double pi = Math.PI;\n",
    "\n",
    "        Console.WriteLine(number1.GetType()); //GetType function is used to get the type of the variable like int, bool etc.\n",
    "        Console.WriteLine(number2.GetType());\n",
    "        Console.WriteLine(isGreater.GetType());\n",
    "        Console.WriteLine(character.GetType());\n",
    "        Console.WriteLine(result1.GetType());\n",
    "        Console.WriteLine(result2.GetType());\n",
    "        Console.WriteLine(result3.GetType());\n",
    "        Console.WriteLine(result4.GetType());\n",
    "        Console.WriteLine(result5.GetType());\n",
    "        Console.WriteLine(set.GetType());\n",
    "        Console.WriteLine(isEqual.GetType());\n",
    "        Console.WriteLine(pi.GetType());\n",
    "    }\n",
    "}\n"
   ]
  },
  {
   "cell_type": "code",
   "execution_count": 2,
   "id": "337f078b-de21-4639-9e0f-f9723f97196d",
   "metadata": {},
   "outputs": [
    {
     "name": "stdout",
     "output_type": "stream",
     "text": [
      "System.Int32\n",
      "System.Double\n",
      "System.Boolean\n",
      "System.Char\n",
      "System.Int32\n",
      "System.String\n",
      "System.String\n",
      "System.Double\n",
      "System.Int32\n",
      "System.Int32[]\n",
      "System.Boolean\n",
      "System.Double\n"
     ]
    }
   ],
   "source": [
    "Program.Main(); //calling of function"
   ]
  },
  {
   "cell_type": "markdown",
   "id": "356bd467-c9ed-4078-bc91-fb80c18281af",
   "metadata": {},
   "source": [
    "Ques 2:  Write (and evaluate) C# expressions that answer these questions:"
   ]
  },
  {
   "cell_type": "markdown",
   "id": "6eb3eac7-8291-4f1e-9ae8-48cfb72b4037",
   "metadata": {},
   "source": [
    "a. How many letters are there in 'Supercalifragilisticexpialidocious'?"
   ]
  },
  {
   "cell_type": "code",
   "execution_count": 3,
   "id": "fe6f816b-1336-482f-a798-0859e2054f90",
   "metadata": {},
   "outputs": [],
   "source": [
    "string word = \"Supercalifragilisticexpialidocious\";\n",
    "int letterCount = word.Length;//Length method is used to get the length of string"
   ]
  },
  {
   "cell_type": "code",
   "execution_count": 4,
   "id": "a9224aa0-8337-4044-8cf9-1cd36aa7afa8",
   "metadata": {},
   "outputs": [
    {
     "name": "stdout",
     "output_type": "stream",
     "text": [
      "Number of letters: 34\n"
     ]
    }
   ],
   "source": [
    "Console.WriteLine(\"Number of letters: \" + letterCount);"
   ]
  },
  {
   "cell_type": "markdown",
   "id": "f0e83374-14f0-4c27-9c99-491ef039742f",
   "metadata": {},
   "source": [
    "b. Does 'Supercalifragilisticexpialidocious' contain 'ice' as a substring?"
   ]
  },
  {
   "cell_type": "code",
   "execution_count": 5,
   "id": "ab5e0fa2-9940-4536-9c2f-de2179c5707d",
   "metadata": {},
   "outputs": [],
   "source": [
    "string word = \"Supercalifragilisticexpialidocious\";\n",
    "bool containsSubstring = word.Contains(\"ice\"); //Contains method is used to check weather a string is substring of another string"
   ]
  },
  {
   "cell_type": "code",
   "execution_count": 6,
   "id": "be8872c1-c717-4abc-8cc7-beb3882c0648",
   "metadata": {},
   "outputs": [
    {
     "name": "stdout",
     "output_type": "stream",
     "text": [
      "Contains 'ice' as substring: True\n"
     ]
    }
   ],
   "source": [
    "Console.WriteLine(\"Contains 'ice' as substring: \" + containsSubstring);"
   ]
  },
  {
   "cell_type": "markdown",
   "id": "0727a594-81b4-4ef7-9b4a-8094b7a08ad2",
   "metadata": {},
   "source": [
    "c. Which of the following words is the longest: Supercalifragilisticexpialidocious, Honorificabilitudinitatibus, or Bababadalgharaghtakamminarronnkonn?"
   ]
  },
  {
   "cell_type": "code",
   "execution_count": 7,
   "id": "543930b4-aef6-4b7b-adb4-0c275b1e1200",
   "metadata": {},
   "outputs": [],
   "source": [
    "string word1 = \"Supercalifragilisticexpialidocious\";\n",
    "string word2 = \"Honorificabilitudinitatibus\";\n",
    "string word3 = \"Bababadalgharaghtakamminarronnkonn\";\n",
    "\n",
    "string longestWord = word1.Length > word2.Length ?\n",
    "                     (word1.Length > word3.Length ? word1 : word3) :    //comparing the length and using ternary operator \n",
    "                     (word2.Length > word3.Length ? word2 : word3);     //making the decision which is largest(length)"
   ]
  },
  {
   "cell_type": "code",
   "execution_count": 8,
   "id": "e2dcc3c6-7c1e-4360-9e42-03c1a60901d9",
   "metadata": {},
   "outputs": [
    {
     "name": "stdout",
     "output_type": "stream",
     "text": [
      "Longest word: Bababadalgharaghtakamminarronnkonn\n"
     ]
    }
   ],
   "source": [
    "Console.WriteLine(\"Longest word: \" + longestWord);"
   ]
  },
  {
   "cell_type": "markdown",
   "id": "20a75172-f1cb-4dc5-8e02-0080c66a130a",
   "metadata": {},
   "source": [
    "d. Which composer comes first in the dictionary: 'Berlioz', 'Borodin', 'Brian', 'Bartok', 'Bellini', 'Buxtehude', 'Bernstein'. Which one comes last?"
   ]
  },
  {
   "cell_type": "code",
   "execution_count": 9,
   "id": "ee9dc411-1eea-4f29-a503-15c95edc0c5e",
   "metadata": {},
   "outputs": [],
   "source": [
    "string[] composers = { \"Berlioz\", \"Borodin\", \"Brian\", \"Bartok\", \"Bellini\", \"Buxtehude\", \"Bernstein\" };\n",
    "\n",
    "Array.Sort(composers);// Sort function is used to sort a array is ascending order\n",
    "\n",
    "string firstComposer = composers[0];\n",
    "string lastComposer = composers[composers.Length - 1];"
   ]
  },
  {
   "cell_type": "code",
   "execution_count": 10,
   "id": "9586daf3-cbb2-41d7-aa78-dac5a241f4f3",
   "metadata": {},
   "outputs": [
    {
     "name": "stdout",
     "output_type": "stream",
     "text": [
      "First composer: Bartok\n",
      "Last composer: Buxtehude\n"
     ]
    }
   ],
   "source": [
    "Console.WriteLine(\"First composer: \" + firstComposer);\n",
    "Console.WriteLine(\"Last composer: \" + lastComposer);"
   ]
  },
  {
   "cell_type": "markdown",
   "id": "5ec236cb-9800-4d7e-aa8f-eb2ddd7a8733",
   "metadata": {},
   "source": [
    "Ques 3:  Implement function triangleArea(a,b,c) that takes as input the lengths of the 3 sides of a triangle and returns \n",
    "the area of the triangle. By Heron's formula, the area of a triangle with side lengths a, b, and c is   s(s − a)(s − b)(s − c), \n",
    "where s = (a + b + c)/2."
   ]
  },
  {
   "cell_type": "code",
   "execution_count": 11,
   "id": "6357e46e-914f-4bdb-a2c7-66fc288418e2",
   "metadata": {},
   "outputs": [
    {
     "name": "stderr",
     "output_type": "stream",
     "text": [
      "\n",
      "(5,24): warning CS7022: The entry point of the program is global code; ignoring 'Program.Main()' entry point.\n",
      "\n"
     ]
    }
   ],
   "source": [
    "using System;\n",
    "\n",
    "class Program\n",
    "{\n",
    "    public static void Main()\n",
    "    {\n",
    "        double area = TriangleArea(2,2,2);\n",
    "        Console.WriteLine(\"Triangle Area: \" + area);\n",
    "    }\n",
    "\n",
    "    static double TriangleArea(double a, double b, double c)\n",
    "    {\n",
    "        double s = (a + b + c) / 2;\n",
    "        double area = Math.Sqrt(s * (s - a) * (s - b) * (s - c)); //Sqrt function is used to find the square root of a number\n",
    "\n",
    "        return area;\n",
    "    }\n",
    "}"
   ]
  },
  {
   "cell_type": "code",
   "execution_count": 12,
   "id": "e27dcd00-cf39-4dd8-9e69-e83e40f92af9",
   "metadata": {},
   "outputs": [
    {
     "name": "stdout",
     "output_type": "stream",
     "text": [
      "Triangle Area: 1.7320508075688772\n"
     ]
    }
   ],
   "source": [
    "Program.Main();//Calling the function"
   ]
  },
  {
   "cell_type": "markdown",
   "id": "919b7527-d1a7-4a42-b022-6e146b6bbece",
   "metadata": {},
   "source": [
    "Ques 4:  Write a program in C# Sharp to separate odd and even integers in separate arrays. Go to the editor"
   ]
  },
  {
   "cell_type": "code",
   "execution_count": 13,
   "id": "62d00864-c3d7-4c79-8b2c-1b8e24c03336",
   "metadata": {},
   "outputs": [
    {
     "name": "stderr",
     "output_type": "stream",
     "text": [
      "\n",
      "(5,24): warning CS7022: The entry point of the program is global code; ignoring 'Program.Main()' entry point.\n",
      "\n"
     ]
    }
   ],
   "source": [
    "using System;\n",
    "\n",
    "public class Program\n",
    "{\n",
    "    public static void Main()\n",
    "    {\n",
    "        int[] numbers = {25,47,42,56,32};\n",
    "\n",
    "        int[] evenNumbers = GetEvenNumbers(numbers);//intializing the array for even numbers\n",
    "        int[] oddNumbers = GetOddNumbers(numbers);//initializing the array for odd numbers\n",
    "\n",
    "        Console.WriteLine(\"Even Numbers:\");\n",
    "        foreach (int number in evenNumbers)\n",
    "        {\n",
    "            Console.WriteLine(number);\n",
    "        }\n",
    "\n",
    "        Console.WriteLine(\"Odd Numbers:\");\n",
    "        foreach (int number in oddNumbers)\n",
    "        {\n",
    "            Console.WriteLine(number);\n",
    "        }\n",
    "    }\n",
    "\n",
    "    public static int[] GetEvenNumbers(int[] numbers)\n",
    "    {\n",
    "        int[] evenNumbers = Array.FindAll(numbers, number => number % 2 == 0);//checking if a number is even\n",
    "        return evenNumbers;\n",
    "    }\n",
    "\n",
    "    public static int[] GetOddNumbers(int[] numbers)\n",
    "    {\n",
    "        int[] oddNumbers = Array.FindAll(numbers, number => number % 2 != 0);//checking if a number is odd\n",
    "        return oddNumbers;\n",
    "    }\n",
    "}\n"
   ]
  },
  {
   "cell_type": "code",
   "execution_count": 14,
   "id": "ade1eaa1-2573-4ca6-84d1-c3400a2a185d",
   "metadata": {},
   "outputs": [
    {
     "name": "stdout",
     "output_type": "stream",
     "text": [
      "Even Numbers:\n",
      "42\n",
      "56\n",
      "32\n",
      "Odd Numbers:\n",
      "25\n",
      "47\n"
     ]
    }
   ],
   "source": [
    "Program.Main() //calling of function"
   ]
  },
  {
   "cell_type": "markdown",
   "id": "3a916762-84f4-4a76-b1c7-ce09fdeda5bb",
   "metadata": {},
   "source": [
    "Ques 5(a):  Write a function i nsi de( x, y, x1, y1, x2, y2) that returns True or False dependingonwhetherthepoint(x,y)\n",
    "    liesintherectanglewithlowerleft corner (x1,y1) and upper right corner (x2,y2)."
   ]
  },
  {
   "cell_type": "code",
   "execution_count": 15,
   "id": "44e28b76-6720-43a9-8dda-92210b039208",
   "metadata": {},
   "outputs": [],
   "source": [
    "using System;\n",
    "\n",
    "public class Prom\n",
    "{\n",
    "    public static bool inside(double x, double y, double x1, double y1, double x2, double y2)\n",
    "    {\n",
    "        bool isInside = x >= x1 && x <= x2 && y >= y1 && y <= y2; //checking for the condition provided\n",
    "        return isInside; //returning the result in form of bool(1 for true and 0 for false)\n",
    "    }\n",
    "}"
   ]
  },
  {
   "cell_type": "markdown",
   "id": "ea3e0741-0b5e-4e76-b89d-becdfcf7ea1f",
   "metadata": {},
   "source": [
    "Ques 5(b):  Use function inside() from part a. to write an expression that tests whether the point (1,1) lies in both of the following rectangles: one with lower left corner (0.3, 0.5) and upper right corner (1.1, 0.7) and the other with lower left corner (0.5, 0.2) and upper right corner (1.1, 2)."
   ]
  },
  {
   "cell_type": "code",
   "execution_count": 16,
   "id": "ea00be98-10f6-4082-925d-09a1bac0c99c",
   "metadata": {},
   "outputs": [
    {
     "data": {
      "text/html": [
       "<div class=\"dni-plaintext\"><pre>False</pre></div><style>\r\n",
       ".dni-code-hint {\r\n",
       "    font-style: italic;\r\n",
       "    overflow: hidden;\r\n",
       "    white-space: nowrap;\r\n",
       "}\r\n",
       ".dni-treeview {\r\n",
       "    white-space: nowrap;\r\n",
       "}\r\n",
       ".dni-treeview td {\r\n",
       "    vertical-align: top;\r\n",
       "    text-align: start;\r\n",
       "}\r\n",
       "details.dni-treeview {\r\n",
       "    padding-left: 1em;\r\n",
       "}\r\n",
       "table td {\r\n",
       "    text-align: start;\r\n",
       "}\r\n",
       "table tr { \r\n",
       "    vertical-align: top; \r\n",
       "    margin: 0em 0px;\r\n",
       "}\r\n",
       "table tr td pre \r\n",
       "{ \r\n",
       "    vertical-align: top !important; \r\n",
       "    margin: 0em 0px !important;\r\n",
       "} \r\n",
       "table th {\r\n",
       "    text-align: start;\r\n",
       "}\r\n",
       "</style>"
      ]
     },
     "execution_count": 16,
     "metadata": {},
     "output_type": "execute_result"
    }
   ],
   "source": [
    "bool isInsideBothRectangles = Prom.inside(1, 1, 0.3, 0.5, 1.1, 0.7) && Prom.inside(1, 1, 0.5, 0.2, 1.1, 2);//calling function\n",
    "//and storing result in a variable\n",
    "isInsideBothRectangles//printing the variable"
   ]
  },
  {
   "cell_type": "markdown",
   "id": "524ef01c-ea9d-4d71-aa26-1ee6d890f350",
   "metadata": {},
   "source": [
    "Taken help from geeksforgeeks as this is my first time doing c#"
   ]
  }
 ],
 "metadata": {
  "kernelspec": {
   "display_name": ".NET (C#)",
   "language": "C#",
   "name": ".net-csharp"
  },
  "language_info": {
   "file_extension": ".cs",
   "mimetype": "text/x-csharp",
   "name": "C#",
   "pygments_lexer": "csharp",
   "version": "11.0"
  }
 },
 "nbformat": 4,
 "nbformat_minor": 5
}
