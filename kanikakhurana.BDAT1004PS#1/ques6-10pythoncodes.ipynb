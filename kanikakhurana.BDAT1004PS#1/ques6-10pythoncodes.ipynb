{
 "cells": [
  {
   "cell_type": "markdown",
   "id": "203310ba-8744-4b03-958c-736d6c9d3033",
   "metadata": {},
   "source": [
    "\t\t\t\t\t\t\t\t\t Problem Set-1(Ques 6 to 10)\n"
   ]
  },
  {
   "cell_type": "markdown",
   "id": "145fd0b1-3bec-4b97-b175-dfa0a67c2abe",
   "metadata": {},
   "source": [
    "Ques 6:  You can turn a word into pig-Latin using the following two rules (simplified):\n",
    "• If the word starts with a consonant, move that letter to the end and append\n",
    "'ay'. For example, 'happy' becomes 'appyhay' and 'pencil' becomes 'encilpay'.\n",
    "• If the word starts with a vowel, simply append 'way' to the end of the word.\n",
    "For example, 'enter' becomes 'enterway' and 'other' becomes 'otherway' . For\n",
    "our purposes, there are 5 vowels: a, e, i, o, u (so we count y as a consonant). Write a function pig() that takes a word (i.e., a string) as input and returns its pig- Latin form. Your function should still work if the input word contains upper case characters. Your output should always be lower case however."
   ]
  },
  {
   "cell_type": "code",
   "execution_count": 1,
   "id": "94d449be-3d11-4217-82c5-745acd02892d",
   "metadata": {},
   "outputs": [
    {
     "name": "stdout",
     "output_type": "stream",
     "text": [
      "appyhay\n",
      "enterway\n"
     ]
    }
   ],
   "source": [
    "def pig(str):\n",
    "    vowel = ['a', 'e', 'i', 'o', 'u']\n",
    "    str = str.lower()\n",
    "    \n",
    "    if str[0] in vowel:\n",
    "        return str + 'way'\n",
    "    else:\n",
    "        return str[1:] + str[0] + 'ay'\n",
    "    \n",
    "print(pig(\"happy\"))\n",
    "print(pig(\"enter\"))"
   ]
  },
  {
   "cell_type": "markdown",
   "id": "91f61ea6-b386-42cd-96b6-2bf534bb5285",
   "metadata": {},
   "source": [
    "Ques 7:  File bloodtype1.txt records blood-types of patients (A, B, AB, O or OO) at a clinic. Write a function bldcount() that reads the file with name name and reports (i.e., prints) how many patients there are in each bloodtype."
   ]
  },
  {
   "cell_type": "code",
   "execution_count": 2,
   "id": "aba4925d-efd6-40d3-9ce6-3ac10d0e6d80",
   "metadata": {},
   "outputs": [],
   "source": [
    "def bldcount(fname):\n",
    "    blood_types = {'A': 0, 'B': 0, 'AB': 0, 'O': 0, 'OO': 0} # Initializing count of all blood types with 0.\n",
    "\n",
    "    with open(fname, 'r') as file:\n",
    "        for line in file:\n",
    "            blood_type = line.strip() # line.strip() is used to remove the space.\n",
    "            if blood_type in blood_types:\n",
    "                blood_types[blood_type] += 1\n",
    "\n",
    "    for blood_type, count in blood_types.items(): # counting the frequency of the blood types\n",
    "        print(f\"{blood_type}: {count}\")"
   ]
  },
  {
   "cell_type": "code",
   "execution_count": 3,
   "id": "a83230cf-e16a-4b06-85da-55be2542e413",
   "metadata": {},
   "outputs": [
    {
     "name": "stdout",
     "output_type": "stream",
     "text": [
      "A: 15\n",
      "B: 1\n",
      "AB: 13\n",
      "O: 15\n",
      "OO: 0\n"
     ]
    }
   ],
   "source": [
    "bldcount('bloodtype1.txt') #calling the function"
   ]
  },
  {
   "cell_type": "markdown",
   "id": "02887894-cabc-4b5b-bbfd-a8b43fb7655e",
   "metadata": {},
   "source": [
    "Ques 8:  Write a function curconv() that takes as input:\n",
    "1. a currency represented using a string (e.g., 'JPY' for the Japanese Yen or 'EUR' for the Euro)\n",
    "2. an amount\n",
    "and then converts and returns the amount in US dollars."
   ]
  },
  {
   "cell_type": "code",
   "execution_count": 4,
   "id": "5a51a686-d546-470c-adf6-5004ed60e37a",
   "metadata": {},
   "outputs": [],
   "source": [
    "def curconv(currency, amount):\n",
    "    rates = {}\n",
    "    with open('currencies.txt', 'r') as file: #accessing the .txt file\n",
    "        for line in file:\n",
    "            code, rate, _ = line.strip().split('\\t')\n",
    "            rates[code] = float(rate)\n",
    "    if currency in rates:\n",
    "        usd_amount = amount * rates[currency] #conversion of the requested currency to usd\n",
    "        return usd_amount # returning the converted value\n",
    "    else:\n",
    "        return 'Currency not found'"
   ]
  },
  {
   "cell_type": "code",
   "execution_count": 5,
   "id": "9e495153-24ee-4053-b26e-38179a7cebef",
   "metadata": {},
   "outputs": [
    {
     "data": {
      "text/plain": [
       "122.96544"
      ]
     },
     "execution_count": 5,
     "metadata": {},
     "output_type": "execute_result"
    }
   ],
   "source": [
    "curconv('EUR', 100) #calling the function"
   ]
  },
  {
   "cell_type": "code",
   "execution_count": 6,
   "id": "10745708-82f2-4b5a-a1b4-bdfce0f9559d",
   "metadata": {},
   "outputs": [
    {
     "data": {
      "text/plain": [
       "1.241401"
      ]
     },
     "execution_count": 6,
     "metadata": {},
     "output_type": "execute_result"
    }
   ],
   "source": [
    "curconv('JPY', 100) #calling the function"
   ]
  },
  {
   "cell_type": "markdown",
   "id": "760145a2-580c-43f2-9942-a9fc563e906c",
   "metadata": {},
   "source": [
    "Ques 9:  Each of the following will cause an exception (an error). Identify what type of exception each will cause.\n",
    "Trying to add incompatible variables, as in adding 6 + ‘a’\n",
    "Referring to the 12th item of a list that has only 10 items\n",
    "Using a value that is out of range for a function’s input, such as calling math.sqrt(-1.0)\n",
    "Using an undeclared variable, such as print(x) when x has not been defined\n",
    "Trying to open a file that does not exist, such as mistyping the file name or looking in the wrong directory."
   ]
  },
  {
   "cell_type": "code",
   "execution_count": 7,
   "id": "f8fd591d-7f9f-462c-98ba-5c49694ecd78",
   "metadata": {},
   "outputs": [
    {
     "name": "stdout",
     "output_type": "stream",
     "text": [
      "Exception caught: TypeError\n",
      "Exception caught: IndexError\n",
      "Exception caught: ValueError\n",
      "Exception caught: NameError\n",
      "Exception caught: FileNotFoundError\n"
     ]
    }
   ],
   "source": [
    "import math\n",
    "try:\n",
    "    result = 6 + 'a'\n",
    "except TypeError as e:\n",
    "    print(f\"Exception caught: {type(e).__name__}\") #making exception handling\n",
    "my_list = [1, 2, 3, 4, 5, 6, 7, 8, 9, 10]\n",
    "try:\n",
    "    item = my_list[11]\n",
    "except IndexError as e:\n",
    "    print(f\"Exception caught: {type(e).__name__}\") #making exception handling\n",
    "try:\n",
    "    result = math.sqrt(-1.0)\n",
    "except ValueError as e:\n",
    "    print(f\"Exception caught: {type(e).__name__}\") #making exception handling\n",
    "try:\n",
    "    print(x)\n",
    "except NameError as e:\n",
    "    print(f\"Exception caught: {type(e).__name__}\") #making exception handling\n",
    "try:\n",
    "    with open('nonexistent.txt', 'r') as file:\n",
    "        content = file.read()\n",
    "except FileNotFoundError as e: \n",
    "    print(f\"Exception caught: {type(e).__name__}\") #making exception handling"
   ]
  },
  {
   "cell_type": "markdown",
   "id": "d313869c-0c3b-4085-9960-89f256832656",
   "metadata": {},
   "source": [
    "Ques 10:  Encryption is the process of hiding the meaning of a text by substituting letters in the message with other letters, according to some system. If the process is successful, no one but the intended recipient can understand the encrypted message. Cryptanalysis refers to attempts to undo the encryption, even if some details of the encryption are unknown (for example, if an encrypted message has been intercepted). The first step of cryptanalysis is often to build up a table of letter frequencies in the encrypted text. Assume that the string letters is already defined as 'abcdefghijklmnopqrstuvwxyz'. Write a function called frequencies()\n",
    "that takes a string as its only parameter, and returns a list of integers, showing the number of times each character appears in the text. Your function may ignore any characters that are not in letters."
   ]
  },
  {
   "cell_type": "code",
   "execution_count": 8,
   "id": "b7c20193-82a0-4b4a-89f7-118c9499555f",
   "metadata": {},
   "outputs": [],
   "source": [
    "def frequencies(text):\n",
    "    letters = 'abcdefghijklmnopqrstuvwxyz' #making a dictionary of our own\n",
    "    freq = [0] * len(letters) #initializing freq\n",
    "\n",
    "    for char in text.lower():\n",
    "        if char in letters:\n",
    "            index = letters.index(char)\n",
    "            freq[index] += 1 #updating freq\n",
    "\n",
    "    return freq #returning freq"
   ]
  },
  {
   "cell_type": "code",
   "execution_count": 9,
   "id": "0720b46c-3731-48ff-9b59-0c5b6c648846",
   "metadata": {},
   "outputs": [
    {
     "data": {
      "text/plain": [
       "[1, 1, 1, 3, 5, 1, 1, 2, 1, 0, 1, 0, 1, 2, 4, 0, 1, 2, 0, 3, 1, 0, 1, 1, 0, 0]"
      ]
     },
     "execution_count": 9,
     "metadata": {},
     "output_type": "execute_result"
    }
   ],
   "source": [
    "frequencies(\"The quick red fox got bored and went home\")"
   ]
  },
  {
   "cell_type": "code",
   "execution_count": 10,
   "id": "06236366-46f4-4906-9e84-cb64618f57ea",
   "metadata": {},
   "outputs": [
    {
     "data": {
      "text/plain": [
       "[1, 0, 0, 0, 1, 0, 0, 0, 0, 0, 0, 1, 0, 0, 0, 2, 0, 0, 0, 0, 0, 0, 0, 0, 0, 0]"
      ]
     },
     "execution_count": 10,
     "metadata": {},
     "output_type": "execute_result"
    }
   ],
   "source": [
    "frequencies(\"apple\")"
   ]
  }
 ],
 "metadata": {
  "kernelspec": {
   "display_name": "Python 3 (ipykernel)",
   "language": "python",
   "name": "python3"
  },
  "language_info": {
   "codemirror_mode": {
    "name": "ipython",
    "version": 3
   },
   "file_extension": ".py",
   "mimetype": "text/x-python",
   "name": "python",
   "nbconvert_exporter": "python",
   "pygments_lexer": "ipython3",
   "version": "3.9.12"
  }
 },
 "nbformat": 4,
 "nbformat_minor": 5
}
